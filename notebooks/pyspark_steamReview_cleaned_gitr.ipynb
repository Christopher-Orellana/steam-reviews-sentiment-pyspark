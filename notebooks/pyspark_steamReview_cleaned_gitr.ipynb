{
 "cells": [
  {
   "cell_type": "markdown",
   "id": "ee4f1e7c-58ac-45e8-852a-d20cf38c4c95",
   "metadata": {},
   "source": [
    "# Steam Review Sentiment Analysis (PySpark + GCP)\n",
    "This notebook loads and processes Steam game reviews using PySpark on Google Cloud Dataproc. The raw dataset is stored in GCS (~47GB) and loaded with a defined schema for performance and type consistency."
   ]
  },
  {
   "cell_type": "code",
   "execution_count": null,
   "id": "7e1e0efe-6a89-4396-bc85-58c0b1c47140",
   "metadata": {
    "tags": []
   },
   "outputs": [],
   "source": [
    "spark"
   ]
  },
  {
   "cell_type": "markdown",
   "id": "8125f505-c812-4546-ae22-55b4d648502b",
   "metadata": {},
   "source": [
    "## 1. Imports & Google Cloud Storage (GCS) Setup"
   ]
  },
  {
   "cell_type": "code",
   "execution_count": null,
   "id": "f4b18981-c4c9-4d1c-8300-2575c5aa5b88",
   "metadata": {
    "tags": []
   },
   "outputs": [],
   "source": [
    "from pyspark.sql.functions import col, isnan, count, udf, length, when\n",
    "import matplotlib.pyplot as plt\n",
    "import pandas as pd\n",
    "import seaborn as sns\n",
    "from google.cloud import storage\n",
    "from pyspark.sql.functions import desc"
   ]
  },
  {
   "cell_type": "code",
   "execution_count": null,
   "id": "8eff76fc-d0d8-4f53-a62f-0df3e5f1ab88",
   "metadata": {
    "tags": []
   },
   "outputs": [],
   "source": [
    "sc.setLogLevel(\"ERROR\")"
   ]
  },
  {
   "cell_type": "code",
   "execution_count": null,
   "id": "3c8df2f6-9c89-41f9-be50-afb69a2c720e",
   "metadata": {
    "tags": []
   },
   "outputs": [],
   "source": [
    "# path to files (REPLACE WITH YOUR OWN GCS BUCKET WHEN RUNNING THE NOTEBOOK)\n",
    "bucket = 'gs://Whatever-your-bucket name is'\n",
    "landing_folder = f\"{bucket}/landing/all_reviews.csv\"\n",
    "cleaned_folder = f\"{bucket}/cleaned/\""
   ]
  },
  {
   "cell_type": "markdown",
   "id": "b3d44939-3095-4a3f-a022-f74e915786e3",
   "metadata": {},
   "source": [
    "## 2. Define Schema & Load In Raw Data"
   ]
  },
  {
   "cell_type": "code",
   "execution_count": null,
   "id": "5f4817df-a140-4f11-b888-91dbd824004f",
   "metadata": {
    "tags": []
   },
   "outputs": [],
   "source": [
    "# preset schema for predictors since inferSchema was only giving string\n",
    "from pyspark.sql.types import StructType, StructField, StringType, IntegerType, LongType, FloatType\n",
    "steamSchema = StructType([\n",
    "    StructField(\"recommendationid\", LongType(), True),              # Large integer (148919893)\n",
    "    StructField(\"appid\", IntegerType(), True),                      # Small integer (10)\n",
    "    StructField(\"game\", StringType(), True),                        # Text (\"Counter-Strike\")\n",
    "    StructField(\"author_steamid\", LongType(), True),                # Large integer (76561199036724879)\n",
    "    StructField(\"author_num_games_owned\", IntegerType(), True),     # Small integer (0)\n",
    "    StructField(\"author_num_reviews\", IntegerType(), True),         # Small integer (3)\n",
    "    StructField(\"author_playtime_forever\", IntegerType(), True),    # Integer (197)\n",
    "    StructField(\"author_playtime_last_two_weeks\", IntegerType(), True),  # Integer (197)\n",
    "    StructField(\"author_playtime_at_review\", IntegerType(), True),  # Integer (197)\n",
    "    StructField(\"author_last_played\", LongType(), True),            # Unix timestamp (1698336369)\n",
    "    StructField(\"language\", StringType(), True),                    # Text (\"russian\")\n",
    "    StructField(\"review\", StringType(), True),                      # Text (\"старость\")\n",
    "    StructField(\"timestamp_created\", LongType(), True),             # Unix timestamp (1698336397)\n",
    "    StructField(\"timestamp_updated\", LongType(), True),             # Unix timestamp (1698336397)\n",
    "    StructField(\"voted_up\", IntegerType(), True),                   # Small integer (1 as true)\n",
    "    StructField(\"votes_up\", IntegerType(), True),                   # Small integer (0)\n",
    "    StructField(\"votes_funny\", IntegerType(), True),                # Small integer (0)\n",
    "    StructField(\"weighted_vote_score\", FloatType(), True),          # Float (0.0)\n",
    "    StructField(\"comment_count\", IntegerType(), True),              # Small integer (0)\n",
    "    StructField(\"steam_purchase\", IntegerType(), True),             # Small integer (1 as true)\n",
    "    StructField(\"received_for_free\", IntegerType(), True),          # Small integer (0 as false)\n",
    "    StructField(\"written_during_early_access\", IntegerType(), True),  # Small integer (0 as false)\n",
    "    StructField(\"hidden_in_steam_china\", IntegerType(), True),       # Small integer (1 as true)\n",
    "    StructField(\"steam_china_location\", StringType(), True)\n",
    "])"
   ]
  },
  {
   "cell_type": "code",
   "execution_count": null,
   "id": "88f77267-80c9-4fb3-9962-34c0f8c46a5b",
   "metadata": {
    "tags": []
   },
   "outputs": [],
   "source": [
    "# Load raw review data from GCS bucket with defined schema\n",
    "sdf = spark.read.csv(landing_folder, header=True, schema=steamSchema) #loading in data in set schema to DataFrame"
   ]
  },
  {
   "cell_type": "code",
   "execution_count": null,
   "id": "17eb967e-d202-46f7-876e-935bef4a2fe2",
   "metadata": {
    "tags": []
   },
   "outputs": [],
   "source": [
    "sdf.show(1, vertical=True)"
   ]
  },
  {
   "cell_type": "markdown",
   "id": "1f6141ba-e454-4ca5-97e0-492035ce9567",
   "metadata": {},
   "source": [
    "## 3. Data Cleaning (Removing nulls and Imputing Values)"
   ]
  },
  {
   "cell_type": "code",
   "execution_count": null,
   "id": "5d5c6b7e-8e10-4ebc-a3c4-f631a67b0059",
   "metadata": {
    "tags": []
   },
   "outputs": [],
   "source": [
    "# Drop columns that provide little to no value\n",
    "sdf = sdf.drop('recommendationid', 'appid', 'author_steamid','steam_china_location', 'timestamp_updated', 'hidden_in_steam_china') # drop non numeric/minimally useful columns "
   ]
  },
  {
   "cell_type": "code",
   "execution_count": null,
   "id": "72c09dc5-22d6-4f27-b6c0-31b21ef72b74",
   "metadata": {
    "tags": []
   },
   "outputs": [],
   "source": [
    "sdf.show(1, vertical=True)"
   ]
  },
  {
   "cell_type": "code",
   "execution_count": null,
   "id": "0f20f039-279b-4fa7-b452-c3fa4c7c4f7f",
   "metadata": {
    "tags": []
   },
   "outputs": [],
   "source": [
    "column_list = [\n",
    "    \"author_num_games_owned\",\n",
    "    \"author_num_reviews\",\n",
    "    \"author_playtime_forever\",\n",
    "    \"author_playtime_last_two_weeks\",\n",
    "    \"author_playtime_at_review\",\n",
    "    \"author_last_played\",\n",
    "    \"game\",\n",
    "    \"review\",\n",
    "    \"language\",\n",
    "    \"timestamp_created\",\n",
    "    \"voted_up\",\n",
    "    \"votes_up\",\n",
    "    \"votes_funny\",\n",
    "    \"weighted_vote_score\",\n",
    "    \"comment_count\",\n",
    "    \"steam_purchase\",\n",
    "    \"received_for_free\",\n",
    "    \"written_during_early_access\"\n",
    "]"
   ]
  },
  {
   "cell_type": "code",
   "execution_count": null,
   "id": "181a91a0-4acf-441f-a233-4474a086fcfb",
   "metadata": {
    "tags": []
   },
   "outputs": [],
   "source": [
    "sdf.select([count(when(isnan(c) | col(c).isNull(), c)).alias(c) for c in column_list]).show(vertical=True) #shows nulls for each column"
   ]
  },
  {
   "cell_type": "code",
   "execution_count": null,
   "id": "395b1330-0d4e-4803-bcae-3007aecd9931",
   "metadata": {
    "tags": []
   },
   "outputs": [],
   "source": [
    "median_apf = sdf.approxQuantile(\"author_playtime_forever\", [0.5], 0.01)[0] #fill na with median\n",
    "sdf = sdf.fillna({'author_playtime_forever': median_apf})"
   ]
  },
  {
   "cell_type": "code",
   "execution_count": null,
   "id": "af843520-a6f2-4b86-a062-5de1eb68453c",
   "metadata": {
    "tags": []
   },
   "outputs": [],
   "source": [
    "sdf.select([count(when(isnan(c) | col(c).isNull(), c)).alias(c) for c in column_list]).show(vertical=True) #shows nulls for each column"
   ]
  },
  {
   "cell_type": "code",
   "execution_count": null,
   "id": "27cf865c-4880-4410-b8d8-74fc813360a4",
   "metadata": {
    "tags": []
   },
   "outputs": [],
   "source": [
    "median_apfltw = sdf.approxQuantile(\"author_playtime_last_two_weeks\", [0.5], 0.01)[0] #fill na with median\n",
    "sdf = sdf.fillna({'author_playtime_last_two_weeks': median_apfltw})"
   ]
  },
  {
   "cell_type": "code",
   "execution_count": null,
   "id": "94ecf734-740c-43d9-b8c5-272aa8bcdf4c",
   "metadata": {
    "tags": []
   },
   "outputs": [],
   "source": [
    "sdf.select([count(when(isnan(c) | col(c).isNull(), c)).alias(c) for c in column_list]).show(vertical=True) #shows nulls for each column"
   ]
  },
  {
   "cell_type": "code",
   "execution_count": null,
   "id": "81e4caa2-df82-453d-93a7-567dffcf7810",
   "metadata": {
    "tags": []
   },
   "outputs": [],
   "source": [
    "sdf = sdf.fillna({'author_last_played': 0}) #fill in null with 0"
   ]
  },
  {
   "cell_type": "code",
   "execution_count": null,
   "id": "6b663a3b-c1a4-4288-8028-1383c555fba2",
   "metadata": {
    "tags": []
   },
   "outputs": [],
   "source": [
    "sdf.select([count(when(isnan(c) | col(c).isNull(), c)).alias(c) for c in column_list]).show(vertical=True) #shows nulls for each column"
   ]
  },
  {
   "cell_type": "code",
   "execution_count": null,
   "id": "d8e21df1-80e9-43c5-b5f5-1a5b419a4309",
   "metadata": {
    "tags": []
   },
   "outputs": [],
   "source": [
    "sdf = sdf.fillna({'voted_up': 0, 'votes_up': 0, 'votes_funny': 0, 'weighted_vote_score': 0, 'comment_count':0}) #fill in null with 0"
   ]
  },
  {
   "cell_type": "code",
   "execution_count": null,
   "id": "1a31190d-7a3a-4a2e-9f3d-0cd592bd6199",
   "metadata": {
    "tags": []
   },
   "outputs": [],
   "source": [
    "sdf = sdf.fillna({'timestamp_created': 0}) # Fill nulls with 0"
   ]
  },
  {
   "cell_type": "code",
   "execution_count": null,
   "id": "fc7de0fc-c930-4242-b445-a74bb6fa5fb7",
   "metadata": {
    "tags": []
   },
   "outputs": [],
   "source": [
    "sdf.select([count(when(isnan(c) | col(c).isNull(), c)).alias(c) for c in column_list]).show(vertical=True) #shows nulls for each column"
   ]
  },
  {
   "cell_type": "code",
   "execution_count": null,
   "id": "8baf212b-df33-4540-acf6-0c08a31853b1",
   "metadata": {
    "tags": []
   },
   "outputs": [],
   "source": [
    "mode_sp = sdf.groupBy(\"steam_purchase\").count().orderBy(desc(\"count\")).first()[0] # Get mode for steam_purchase"
   ]
  },
  {
   "cell_type": "code",
   "execution_count": null,
   "id": "d08835cb-7fa8-4fe1-95e0-cb452f5f4590",
   "metadata": {
    "tags": []
   },
   "outputs": [],
   "source": [
    "mode_rff = sdf.groupBy(\"received_for_free\").count().orderBy(desc(\"count\")).first()[0] # Get mode for recieve_for_free"
   ]
  },
  {
   "cell_type": "code",
   "execution_count": null,
   "id": "0643d951-6b5c-4e5b-a190-6c0fc9385d9e",
   "metadata": {
    "tags": []
   },
   "outputs": [],
   "source": [
    "mode_wdea = sdf.groupBy(\"written_during_early_access\").count().orderBy(desc(\"count\")).first()[0] # Get mode for WDEA"
   ]
  },
  {
   "cell_type": "code",
   "execution_count": null,
   "id": "b8afcf07-3d63-4988-bc1b-ae2d76a73f2a",
   "metadata": {
    "tags": []
   },
   "outputs": [],
   "source": [
    "# Fill nulls with mode\n",
    "sdf = sdf.fillna({\"steam_purchase\": mode_sp, 'received_for_free': mode_rff, 'written_during_early_access': mode_wdea})"
   ]
  },
  {
   "cell_type": "code",
   "execution_count": null,
   "id": "7b3b2976-df59-44a0-ac03-ef9fd2fe5489",
   "metadata": {
    "tags": []
   },
   "outputs": [],
   "source": [
    "sdf.select([count(when(isnan(c) | col(c).isNull(), c)).alias(c) for c in column_list]).show(vertical=True) #shows nulls for each column"
   ]
  },
  {
   "cell_type": "code",
   "execution_count": null,
   "id": "8bf7848e-4f61-4059-83b2-c79529918291",
   "metadata": {
    "tags": []
   },
   "outputs": [],
   "source": [
    "# Remove rows where game value is missing\n",
    "sdf = sdf.dropna(subset=[\"game\"])"
   ]
  },
  {
   "cell_type": "code",
   "execution_count": null,
   "id": "97257f4b-6862-452e-9e5e-885cd1c9c2f9",
   "metadata": {
    "tags": []
   },
   "outputs": [],
   "source": [
    "sdf.select([count(when(isnan(c) | col(c).isNull(), c)).alias(c) for c in column_list]).show(vertical=True) #shows nulls for each column"
   ]
  },
  {
   "cell_type": "code",
   "execution_count": null,
   "id": "c3cf2a43-7da1-410a-a370-2c4aca292813",
   "metadata": {
    "tags": []
   },
   "outputs": [],
   "source": [
    "# Display nulls in the review column\n",
    "sdf.select(count(when(col(\"review\").isNull(), \"review\")).alias(\"review_nulls\")).show()"
   ]
  },
  {
   "cell_type": "code",
   "execution_count": null,
   "id": "eaac1f2a-a184-40ce-b2f4-8c222c93a662",
   "metadata": {
    "tags": []
   },
   "outputs": [],
   "source": [
    "# Check for nulls & NaN since they differ in pyspark\n",
    "from pyspark.sql.functions import isnan, count, when, col\n",
    "sdf.select(\n",
    "    count(when(isnan('review'), 'review')).alias('review_nan'),\n",
    "    count(when(col('review').isNull(), 'review')).alias('review_null')).show()"
   ]
  },
  {
   "cell_type": "code",
   "execution_count": null,
   "id": "b5792c03-8262-4c98-bafc-cd8d56c3f263",
   "metadata": {
    "tags": []
   },
   "outputs": [],
   "source": [
    "# Replace review column with one where rows with NaN values are dropped\n",
    "sdf = sdf.withColumn('review', when (isnan('review'), None).otherwise(col('review'))).dropna(subset=['review'])"
   ]
  },
  {
   "cell_type": "code",
   "execution_count": null,
   "id": "4cb3b39f-bd54-40c2-848d-e1244e58ca11",
   "metadata": {
    "tags": []
   },
   "outputs": [],
   "source": [
    "# Filter languages to english for text processing\n",
    "sdf = sdf.filter(sdf['language'] == 'english')"
   ]
  },
  {
   "cell_type": "code",
   "execution_count": null,
   "id": "eae2f5a8-004a-44b4-8f02-f260946a608c",
   "metadata": {
    "tags": []
   },
   "outputs": [],
   "source": [
    "sdf.select([count(when(isnan(c) | col(c).isNull(), c)).alias(c) for c in column_list]).show(vertical=True) #shows nulls for each column"
   ]
  },
  {
   "cell_type": "code",
   "execution_count": null,
   "id": "9185e16f-a81b-46aa-9867-531b368deacf",
   "metadata": {
    "tags": []
   },
   "outputs": [],
   "source": [
    "# Count number of records\n",
    "sdf.count()"
   ]
  },
  {
   "cell_type": "code",
   "execution_count": null,
   "id": "5f652401-62d9-49a5-ac75-5d928c3d335a",
   "metadata": {
    "tags": []
   },
   "outputs": [],
   "source": [
    "sdf.rdd.getNumPartitions()"
   ]
  },
  {
   "cell_type": "markdown",
   "id": "f5c3cc2a-b480-4cb3-84d3-f4d92843e38b",
   "metadata": {},
   "source": [
    "## 4. Save Cleaned Dataset"
   ]
  },
  {
   "cell_type": "code",
   "execution_count": null,
   "id": "1e983c74-7fce-4f40-8e94-85ea9f32006d",
   "metadata": {
    "tags": []
   },
   "outputs": [],
   "source": [
    "cleaned_filename = f\"{cleaned_folder}/cleaned_steam_reviews_data.parquet\" # save to google cloud clean folder as parquet\n",
    "sdf.write.parquet(cleaned_filename, mode='overwrite')"
   ]
  }
 ],
 "metadata": {
  "kernelspec": {
   "display_name": "Python 3 (ipykernel)",
   "language": "python",
   "name": "python3"
  },
  "language_info": {
   "codemirror_mode": {
    "name": "ipython",
    "version": 3
   },
   "file_extension": ".py",
   "mimetype": "text/x-python",
   "name": "python",
   "nbconvert_exporter": "python",
   "pygments_lexer": "ipython3",
   "version": "3.12.7"
  }
 },
 "nbformat": 4,
 "nbformat_minor": 5
}
