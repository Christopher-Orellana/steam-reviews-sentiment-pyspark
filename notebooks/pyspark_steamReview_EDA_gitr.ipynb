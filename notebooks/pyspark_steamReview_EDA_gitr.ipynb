{
 "cells": [
  {
   "cell_type": "markdown",
   "id": "3ae32e91-ff57-4386-8cd5-0a433c89b693",
   "metadata": {},
   "source": [
    "# Steam Review Dataset EDA (Exploratory Data Analysis)\n",
    "This notebook performs exploratory analysis on a 47GB dataset of Steam game reviews using PySpark and Google Cloud Dataproc."
   ]
  },
  {
   "cell_type": "code",
   "execution_count": null,
   "id": "255c1d51-6570-4cfe-858f-025acd9f42fc",
   "metadata": {
    "tags": []
   },
   "outputs": [],
   "source": [
    "spark"
   ]
  },
  {
   "cell_type": "markdown",
   "id": "069c16e1-db62-4fa4-833c-73584c957137",
   "metadata": {},
   "source": [
    "## 1. Imports and Google Cloud Storage Setup"
   ]
  },
  {
   "cell_type": "code",
   "execution_count": null,
   "id": "1cbf600b-a218-4aad-8e7b-6f2ce801284f",
   "metadata": {
    "tags": []
   },
   "outputs": [],
   "source": [
    "from pyspark.sql.functions import col, isnan, count, udf, length, when\n",
    "import matplotlib.pyplot as plt\n",
    "import pandas as pd\n",
    "import seaborn as sns\n",
    "from google.cloud import storage\n",
    "from io import StringIO, BytesIO\n",
    "import gzip\n",
    "pd.set_option('display.float_format', '{:.2f}'.format)\n",
    "pd.set_option('display.width', 1000)"
   ]
  },
  {
   "cell_type": "code",
   "execution_count": null,
   "id": "de3e9eed-7d85-4fea-bc53-5a0874539da8",
   "metadata": {
    "tags": []
   },
   "outputs": [],
   "source": [
    "# Note spark is automatically initialized in GCP Dataproc Clusters\n",
    "sc.setLogLevel(\"ERROR\")"
   ]
  },
  {
   "cell_type": "code",
   "execution_count": null,
   "id": "9a74cda7-82a9-4c10-a8be-8c053efa615f",
   "metadata": {
    "tags": []
   },
   "outputs": [],
   "source": [
    "#path to files(REPLACE BUCKET VARIABLE WITH WHATEVER YOUR BUCKET NAME IS)\n",
    "bucket = 'gs://whatever-your-bucket-name-is'\n",
    "landing_folder = f\"{bucket}/landing/all_reviews.csv\"\n",
    "cleaned_folder = f\"{bucket}/cleaned/\""
   ]
  },
  {
   "cell_type": "markdown",
   "id": "af3ea39a-532d-48bd-96a3-b95354e9a127",
   "metadata": {},
   "source": [
    "## 2. Define Schema & Loading Dataset from GCS"
   ]
  },
  {
   "cell_type": "code",
   "execution_count": null,
   "id": "e19fa180-a2c8-4377-bda0-aaf1ca50fa6f",
   "metadata": {
    "tags": []
   },
   "outputs": [],
   "source": [
    "#preset schema for predictors since inferSchema was only giving me string\n",
    "from pyspark.sql.types import StructType, StructField, StringType, IntegerType, LongType, FloatType\n",
    "steamSchema = StructType([\n",
    "    StructField(\"recommendationid\", LongType(), True),              # Large integer (148919893)\n",
    "    StructField(\"appid\", IntegerType(), True),                      # Small integer (10)\n",
    "    StructField(\"game\", StringType(), True),                        # Text (\"Counter-Strike\")\n",
    "    StructField(\"author_steamid\", LongType(), True),                # Large integer (76561199036724879)\n",
    "    StructField(\"author_num_games_owned\", IntegerType(), True),     # Small integer (0)\n",
    "    StructField(\"author_num_reviews\", IntegerType(), True),         # Small integer (3)\n",
    "    StructField(\"author_playtime_forever\", IntegerType(), True),    # Integer (197)\n",
    "    StructField(\"author_playtime_last_two_weeks\", IntegerType(), True),  # Integer (197)\n",
    "    StructField(\"author_playtime_at_review\", IntegerType(), True),  # Integer (197)\n",
    "    StructField(\"author_last_played\", LongType(), True),            # Unix timestamp (1698336369)\n",
    "    StructField(\"language\", StringType(), True),                    # Text (\"russian\")\n",
    "    StructField(\"review\", StringType(), True),                      # Text (\"старость\")\n",
    "    StructField(\"timestamp_created\", LongType(), True),             # Unix timestamp (1698336397)\n",
    "    StructField(\"timestamp_updated\", LongType(), True),             # Unix timestamp (1698336397)\n",
    "    StructField(\"voted_up\", IntegerType(), True),                   # Small integer (1 as true)\n",
    "    StructField(\"votes_up\", IntegerType(), True),                   # Small integer (0)\n",
    "    StructField(\"votes_funny\", IntegerType(), True),                # Small integer (0)\n",
    "    StructField(\"weighted_vote_score\", FloatType(), True),          # Float (0.0)\n",
    "    StructField(\"comment_count\", IntegerType(), True),              # Small integer (0)\n",
    "    StructField(\"steam_purchase\", IntegerType(), True),             # Small integer (1 as true)\n",
    "    StructField(\"received_for_free\", IntegerType(), True),          # Small integer (0 as false)\n",
    "    StructField(\"written_during_early_access\", IntegerType(), True),  # Small integer (0 as false)\n",
    "    StructField(\"hidden_in_steam_china\", IntegerType(), True),       # Small integer (1 as true)\n",
    "    StructField(\"steam_china_location\", StringType(), True)\n",
    "])"
   ]
  },
  {
   "cell_type": "code",
   "execution_count": null,
   "id": "cf28a0fe-1352-443c-af73-ff64fded9111",
   "metadata": {
    "tags": []
   },
   "outputs": [],
   "source": [
    "sdf = spark.read.csv(landing_folder, header=True, schema=steamSchema) #loading in data in set schema to DataFrame"
   ]
  },
  {
   "cell_type": "code",
   "execution_count": null,
   "id": "2f9c9844-fd40-458e-9cca-f1ee8906c0a9",
   "metadata": {
    "tags": []
   },
   "outputs": [],
   "source": [
    "sdf.show(2, vertical=True)"
   ]
  },
  {
   "cell_type": "code",
   "execution_count": null,
   "id": "444f731a-757e-4ae1-9702-ff85281e5b25",
   "metadata": {
    "tags": []
   },
   "outputs": [],
   "source": [
    "sdf.printSchema() #check schema was implemented and list of variables"
   ]
  },
  {
   "cell_type": "code",
   "execution_count": null,
   "id": "5a6037a0-b1fa-4638-a826-25f4f571177d",
   "metadata": {
    "tags": []
   },
   "outputs": [],
   "source": [
    "sdf.select('language').distinct().show() #show distinct languages to encode later"
   ]
  },
  {
   "cell_type": "code",
   "execution_count": null,
   "id": "8c5491e4-4ae2-4b59-a5d8-7b5dcbb60641",
   "metadata": {
    "tags": []
   },
   "outputs": [],
   "source": [
    "sdf.count() # number of records in steam review"
   ]
  },
  {
   "cell_type": "code",
   "execution_count": null,
   "id": "d1e0aa59-5112-4e0c-a869-7608a953cfad",
   "metadata": {
    "tags": []
   },
   "outputs": [],
   "source": [
    "sdf.summary().show(vertical=True) # show statistics for numerical variables, including min/max for unix date"
   ]
  },
  {
   "cell_type": "code",
   "execution_count": null,
   "id": "973fe785-1d76-4f97-b187-713ed1289ea6",
   "metadata": {
    "tags": []
   },
   "outputs": [],
   "source": [
    "sdf.select('review').summary('count', 'min', 'max').show() # quick summary for review column"
   ]
  },
  {
   "cell_type": "code",
   "execution_count": null,
   "id": "3cd5b559-0f6d-4837-a0ba-d4918e39af32",
   "metadata": {
    "tags": []
   },
   "outputs": [],
   "source": [
    "column_list = [\n",
    "    \"recommendationid\",\n",
    "    \"appid\",\n",
    "    \"game\",\n",
    "    \"author_steamid\",\n",
    "    \"author_num_games_owned\",\n",
    "    \"author_num_reviews\",\n",
    "    \"author_playtime_forever\",\n",
    "    \"author_playtime_last_two_weeks\",\n",
    "    \"author_playtime_at_review\",\n",
    "    \"author_last_played\",\n",
    "    \"language\",\n",
    "    \"review\",\n",
    "    \"timestamp_created\",\n",
    "    \"timestamp_updated\",\n",
    "    \"voted_up\",\n",
    "    \"votes_up\",\n",
    "    \"votes_funny\",\n",
    "    \"weighted_vote_score\",\n",
    "    \"comment_count\",\n",
    "    \"steam_purchase\",\n",
    "    \"received_for_free\",\n",
    "    \"written_during_early_access\",\n",
    "    \"hidden_in_steam_china\",\n",
    "    \"steam_china_location\"\n",
    "]"
   ]
  },
  {
   "cell_type": "code",
   "execution_count": null,
   "id": "06502900-b5a8-444d-a4fa-b0663c48acda",
   "metadata": {
    "tags": []
   },
   "outputs": [],
   "source": [
    "sdf.select([count(when(isnan(c) | col(c).isNull(), c)).alias(c) for c in column_list]).show(vertical=True) #shows nulls for each column"
   ]
  },
  {
   "cell_type": "markdown",
   "id": "9506035b-447e-40f8-9bc8-007a9695db30",
   "metadata": {},
   "source": [
    "## 3. Review Text Preprocessing"
   ]
  },
  {
   "cell_type": "code",
   "execution_count": null,
   "id": "57538e1b-d6a2-4aac-8f13-e2e83f4d3185",
   "metadata": {
    "tags": []
   },
   "outputs": [],
   "source": [
    "def ascii_only(mystring): #strip out non-ascii characters\n",
    "    if mystring:\n",
    "        return mystring.encode('ascii', 'ignore').decode('ascii')\n",
    "    else:\n",
    "        return None\n",
    "    \n",
    "ascii_udf = udf(ascii_only) #UDF creation"
   ]
  },
  {
   "cell_type": "code",
   "execution_count": null,
   "id": "99bf8cce-0275-4b58-99bc-b571cc6cff8d",
   "metadata": {
    "tags": []
   },
   "outputs": [],
   "source": [
    "sdf = sdf.withColumn('clean_review', ascii_udf('review')) # create udf to apply function throughout cluster"
   ]
  },
  {
   "cell_type": "code",
   "execution_count": null,
   "id": "68442da8-9ff7-4d34-a610-1a3452a959ee",
   "metadata": {
    "tags": []
   },
   "outputs": [],
   "source": [
    "# Basic statistics for clean_review column\n",
    "sdf.select('clean_review').summary('count', 'min', 'max').show()"
   ]
  },
  {
   "cell_type": "code",
   "execution_count": null,
   "id": "982bb8c5-1f28-4402-84be-55906332fd01",
   "metadata": {
    "tags": []
   },
   "outputs": [],
   "source": [
    "sdf = sdf.withColumn('clean_review_length', length(col('clean_review'))) #create length variable to count length of string per record"
   ]
  },
  {
   "cell_type": "code",
   "execution_count": null,
   "id": "a7bd3abe-6ada-4952-820e-f9a33f388cb6",
   "metadata": {
    "tags": []
   },
   "outputs": [],
   "source": [
    "sdf.select('clean_review_length').summary('count', 'min', 'max').show() #check cleaned reviews"
   ]
  },
  {
   "cell_type": "markdown",
   "id": "23b0d5db-8e06-4e4b-b150-2dbb3c096d6f",
   "metadata": {},
   "source": [
    "## 4. Variable Distributions for Text Cleaning & Sentiment Modeling"
   ]
  },
  {
   "cell_type": "code",
   "execution_count": null,
   "id": "aa6b4a13-8e6c-43a3-b9df-36e83cc08010",
   "metadata": {
    "tags": []
   },
   "outputs": [],
   "source": [
    "# Frequency count of reviews by language\n",
    "sdf.groupby('language').count().orderBy('count', ascending=False).show()"
   ]
  },
  {
   "cell_type": "code",
   "execution_count": null,
   "id": "c8b8ee42-ec07-4b3e-9bf8-f81a69314a63",
   "metadata": {
    "tags": []
   },
   "outputs": [],
   "source": [
    "# Frequency count of reviews by game\n",
    "sdf.groupby('game').count().orderBy('count', ascending=False).show()"
   ]
  },
  {
   "cell_type": "code",
   "execution_count": null,
   "id": "a0e01a34-70aa-4ffe-9a41-5e306de78edf",
   "metadata": {
    "tags": []
   },
   "outputs": [],
   "source": [
    "# Frequency count of reviews by voted_up (target variable)\n",
    "sdf.groupby('voted_up').count().orderBy('count', ascending=False).show(2)"
   ]
  },
  {
   "cell_type": "code",
   "execution_count": null,
   "id": "1374c569-8a7b-4473-8166-fcbc1f56479d",
   "metadata": {
    "tags": []
   },
   "outputs": [],
   "source": [
    "# Take sample of data set to show overall trends\n",
    "df_sample = sdf.select('language', 'voted_up').sample(fraction=0.005, seed=42).toPandas()"
   ]
  },
  {
   "cell_type": "code",
   "execution_count": null,
   "id": "c73cba47-2f45-444c-8c47-365ed473d38a",
   "metadata": {
    "tags": []
   },
   "outputs": [],
   "source": [
    "# Create dataframe containing only positive reviews for plotting\n",
    "df_sample_1 = df_sample[df_sample['voted_up'] == 1]"
   ]
  },
  {
   "cell_type": "code",
   "execution_count": null,
   "id": "456bd6b5-6320-4c24-a1b8-988ae85d3447",
   "metadata": {
    "tags": []
   },
   "outputs": [],
   "source": [
    "# Create dataframe containing voted_up by language for plotting\n",
    "lan_votes = df_sample_1.groupby('language')['voted_up'].count().sort_values(ascending=False)"
   ]
  },
  {
   "cell_type": "code",
   "execution_count": null,
   "id": "cc9a6c29-b6b4-48f5-8c51-926f9476face",
   "metadata": {
    "tags": []
   },
   "outputs": [],
   "source": [
    "# Reset indec for lan_vote and limit to top 10 languages\n",
    "lan_votes_df = lan_votes.reset_index()\n",
    "top_lan_votes = lan_votes_df.head(10)"
   ]
  },
  {
   "cell_type": "code",
   "execution_count": null,
   "id": "613f4098-429f-462e-830a-a8a2f2f6d6f7",
   "metadata": {
    "tags": []
   },
   "outputs": [],
   "source": [
    "# Plot top 10 languages by voted_up: Display which language leaves the most positive reviews \n",
    "plt.figure(figsize=(12, 6))\n",
    "sns.barplot(data=top_lan_votes, x='language', y='voted_up', color='skyblue', edgecolor='black')\n",
    "plt.title('Top 10 languages by Total Voted up')\n",
    "plt.xticks(rotation=45)\n",
    "plt.ylabel('Counts Voted up')\n",
    "plt.tight_layout()\n",
    "plt.show()"
   ]
  },
  {
   "cell_type": "code",
   "execution_count": null,
   "id": "3af75584-b9c4-455b-8322-b9222db5aa7b",
   "metadata": {
    "tags": []
   },
   "outputs": [],
   "source": [
    "# Create dataframe containing only games and votes_funny for plotting\n",
    "df_sample_2 = sdf.select('game', 'votes_funny').sample(fraction=0.005, seed=42).toPandas()"
   ]
  },
  {
   "cell_type": "code",
   "execution_count": null,
   "id": "7adb9512-55c1-40f4-8eee-1ef0b55c331a",
   "metadata": {
    "tags": []
   },
   "outputs": [],
   "source": [
    "# Create dataframe where the game review was voted funny for plotting\n",
    "df_sample_2_1 = df_sample_2[df_sample_2['votes_funny'] == 1]"
   ]
  },
  {
   "cell_type": "code",
   "execution_count": null,
   "id": "b287704c-ba93-4d95-a002-15b383417018",
   "metadata": {
    "tags": []
   },
   "outputs": [],
   "source": [
    "# Create dataframe for votes funny by game for plotting\n",
    "fun_votes = df_sample_2_1.groupby('game')['votes_funny'].count().sort_values(ascending=False)"
   ]
  },
  {
   "cell_type": "code",
   "execution_count": null,
   "id": "c9454767-09b3-4db0-8aef-d47d40ee0344",
   "metadata": {
    "tags": []
   },
   "outputs": [],
   "source": [
    "# Reset index and limit to top 10 games\n",
    "fun_votes_df = fun_votes.reset_index()\n",
    "top_fun_votes = fun_votes_df.head(10)"
   ]
  },
  {
   "cell_type": "code",
   "execution_count": null,
   "id": "c705bafa-2f6d-4bad-9cec-ddc2357a98d9",
   "metadata": {
    "tags": []
   },
   "outputs": [],
   "source": [
    "# Plot top 10 games by votes_funny: Display which game has the most votes for being funny\n",
    "plt.figure(figsize=(12,8))\n",
    "sns.barplot(data=top_fun_votes, x='game', y='votes_funny', color='red', edgecolor='black')\n",
    "plt.title('Top 10 games by count of votes_funny')\n",
    "plt.xticks(rotation=45)\n",
    "plt.ylabel('Total Votes Funny')\n",
    "plt.tight_layout()\n",
    "plt.show()\n",
    "    "
   ]
  }
 ],
 "metadata": {
  "kernelspec": {
   "display_name": "Python 3 (ipykernel)",
   "language": "python",
   "name": "python3"
  },
  "language_info": {
   "codemirror_mode": {
    "name": "ipython",
    "version": 3
   },
   "file_extension": ".py",
   "mimetype": "text/x-python",
   "name": "python",
   "nbconvert_exporter": "python",
   "pygments_lexer": "ipython3",
   "version": "3.12.7"
  }
 },
 "nbformat": 4,
 "nbformat_minor": 5
}
